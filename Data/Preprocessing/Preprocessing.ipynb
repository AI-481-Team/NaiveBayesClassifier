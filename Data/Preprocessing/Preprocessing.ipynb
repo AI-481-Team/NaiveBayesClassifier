{
 "cells": [
  {
   "cell_type": "markdown",
   "id": "169bad86",
   "metadata": {},
   "source": [
    "# Preprocessing Notebook for Dataset 1\n",
    "\n",
    "\n",
    "Before running this notebook, make sure to **create and activate** the conda environment defined by environment.yml using\n",
    "\n",
    "```conda env create -f environment.yml```\n",
    "\n",
    "```conda activate spam_classifier_env```\n",
    "\n",
    "in the terminal.\n",
    "\n",
    "IMPORTANT: Do not run cells twice as it can lead to unexpected errors."
   ]
  },
  {
   "cell_type": "markdown",
   "id": "98e161cf",
   "metadata": {},
   "source": [
    "**IMPORTANT**: Make sure this first cell let's chdir point to the project's folder with name  \"NaiveBayesClassifier\"\n",
    "#Make imports work \n",
    "\n",
    "\n"
   ]
  },
  {
   "cell_type": "code",
   "execution_count": 4,
   "id": "d3a1211b",
   "metadata": {},
   "outputs": [
    {
     "name": "stdout",
     "output_type": "stream",
     "text": [
      "c:\\Users\\Benjamin\\OneDrive\\Desktop\\CPSC 481-07 (AI)\\Code Examples\\NaiveBayesClassifier\n"
     ]
    }
   ],
   "source": [
    "import os\n",
    "\n",
    "print(os.getcwd()) #show current dir (should end with NaiveBayesClassier)\n",
    "\n",
    "#if not:\n",
    "if os.getcwd().split('\\\\')[-1] != 'NaiveBayesClassifier' :\n",
    "    os.chdir('c:\\\\Users\\\\Benjamin\\\\OneDrive\\\\Desktop\\\\CPSC 481-07 (AI)\\\\Code Examples\\\\NaiveBayesClassifier\\\\') #maybe adjust this path to point at right dir"
   ]
  },
  {
   "cell_type": "code",
   "execution_count": 5,
   "id": "387bc684",
   "metadata": {},
   "outputs": [],
   "source": [
    "import pandas as pd\n",
    "import numpy as np\n",
    "import matplotlib.pyplot as plt\n",
    "import re\n",
    "import nltk\n",
    "from nltk.corpus import stopwords\n",
    "from nltk.tokenize import word_tokenize\n",
    "from nltk.stem import WordNetLemmatizer\n",
    "from nltk.stem import PorterStemmer\n",
    "from sklearn.feature_extraction.text import CountVectorizer\n",
    "from sklearn.model_selection import train_test_split\n",
    "from sklearn.naive_bayes import MultinomialNB\n",
    "from sklearn.metrics import accuracy_score, confusion_matrix, classification_report\n"
   ]
  },
  {
   "cell_type": "code",
   "execution_count": 6,
   "id": "f4dc8a37",
   "metadata": {},
   "outputs": [
    {
     "name": "stderr",
     "output_type": "stream",
     "text": [
      "[nltk_data] Downloading package stopwords to\n",
      "[nltk_data]     C:\\Users\\Benjamin\\AppData\\Roaming\\nltk_data...\n",
      "[nltk_data]   Package stopwords is already up-to-date!\n",
      "[nltk_data] Downloading package punkt to\n",
      "[nltk_data]     C:\\Users\\Benjamin\\AppData\\Roaming\\nltk_data...\n",
      "[nltk_data]   Package punkt is already up-to-date!\n",
      "[nltk_data] Downloading package wordnet to\n",
      "[nltk_data]     C:\\Users\\Benjamin\\AppData\\Roaming\\nltk_data...\n",
      "[nltk_data]   Package wordnet is already up-to-date!\n",
      "[nltk_data] Downloading package averaged_perceptron_tagger to\n",
      "[nltk_data]     C:\\Users\\Benjamin\\AppData\\Roaming\\nltk_data...\n",
      "[nltk_data]   Package averaged_perceptron_tagger is already up-to-\n",
      "[nltk_data]       date!\n"
     ]
    },
    {
     "data": {
      "text/plain": [
       "True"
      ]
     },
     "execution_count": 6,
     "metadata": {},
     "output_type": "execute_result"
    }
   ],
   "source": [
    "#NLTK download resources\n",
    "nltk.download('stopwords') #for stopwords\n",
    "nltk.download('punkt') #for tokenizer\n",
    "nltk.download('wordnet') #for lemmatizer\n",
    "nltk.download('averaged_perceptron_tagger') #for porter stemmer"
   ]
  },
  {
   "cell_type": "markdown",
   "id": "31d04be4",
   "metadata": {},
   "source": []
  },
  {
   "cell_type": "code",
   "execution_count": 9,
   "id": "b92fab2d",
   "metadata": {},
   "outputs": [
    {
     "data": {
      "text/html": [
       "<div>\n",
       "<style scoped>\n",
       "    .dataframe tbody tr th:only-of-type {\n",
       "        vertical-align: middle;\n",
       "    }\n",
       "\n",
       "    .dataframe tbody tr th {\n",
       "        vertical-align: top;\n",
       "    }\n",
       "\n",
       "    .dataframe thead th {\n",
       "        text-align: right;\n",
       "    }\n",
       "</style>\n",
       "<table border=\"1\" class=\"dataframe\">\n",
       "  <thead>\n",
       "    <tr style=\"text-align: right;\">\n",
       "      <th></th>\n",
       "      <th>Message</th>\n",
       "      <th>Category</th>\n",
       "    </tr>\n",
       "  </thead>\n",
       "  <tbody>\n",
       "    <tr>\n",
       "      <th>0</th>\n",
       "      <td>Subject: naturally irresistible your corporate...</td>\n",
       "      <td>1</td>\n",
       "    </tr>\n",
       "    <tr>\n",
       "      <th>1</th>\n",
       "      <td>Subject: the stock trading gunslinger  fanny i...</td>\n",
       "      <td>1</td>\n",
       "    </tr>\n",
       "    <tr>\n",
       "      <th>2</th>\n",
       "      <td>Subject: unbelievable new homes made easy  im ...</td>\n",
       "      <td>1</td>\n",
       "    </tr>\n",
       "    <tr>\n",
       "      <th>3</th>\n",
       "      <td>Subject: 4 color printing special  request add...</td>\n",
       "      <td>1</td>\n",
       "    </tr>\n",
       "    <tr>\n",
       "      <th>4</th>\n",
       "      <td>Subject: do not have money , get software cds ...</td>\n",
       "      <td>1</td>\n",
       "    </tr>\n",
       "  </tbody>\n",
       "</table>\n",
       "</div>"
      ],
      "text/plain": [
       "                                             Message Category\n",
       "0  Subject: naturally irresistible your corporate...        1\n",
       "1  Subject: the stock trading gunslinger  fanny i...        1\n",
       "2  Subject: unbelievable new homes made easy  im ...        1\n",
       "3  Subject: 4 color printing special  request add...        1\n",
       "4  Subject: do not have money , get software cds ...        1"
      ]
     },
     "execution_count": 9,
     "metadata": {},
     "output_type": "execute_result"
    }
   ],
   "source": [
    "#Reading Data\n",
    "data1 = pd.read_csv(\"Data\\\\Datasets raw\\\\dataset_1.csv\") # ../ means navigating one up\n",
    "data2 = pd.read_csv(\"Data\\\\Datasets raw\\\\dataset_2.csv\") # ../ means navigating one up\n",
    "\n",
    "\n",
    "#Preparing concatination of data1 and data2\n",
    "\n",
    "#same column names\n",
    "new_columns = {data2.columns[0]: data1.columns[1], data2.columns[1]: data1.columns[0]}\n",
    "data2 = data2.rename(columns=new_columns)\n",
    "\n",
    "#concat\n",
    "data = pd.concat([data2, data1], axis=0, join=\"inner\")\n",
    "\n",
    "data.head()\n",
    "\n"
   ]
  },
  {
   "cell_type": "markdown",
   "id": "295afed2",
   "metadata": {},
   "source": [
    "## General Cleaning techniques"
   ]
  },
  {
   "cell_type": "code",
   "execution_count": null,
   "id": "9292fb28",
   "metadata": {},
   "outputs": [],
   "source": [
    "#Resource used for this cell: https://medium.com/analytics-vidhya/text-preprocessing-for-nlp-natural-language-processing-beginners-to-master-fd82dfecf95\n",
    "\n",
    "#Checking for missing values\n",
    "data.dropna(inplace=True)\n",
    "\n",
    "\n",
    "#COnverting Message Column to lower case\n",
    "def to_lower(text):\n",
    "    return str(text).lower()\n",
    "data[\"Message\"] = data[\"Message\"].apply(to_lower)\n",
    "\n",
    "#removing  possible https links \n",
    "def remove_urls(text):\n",
    "    text = str(text)\n",
    "    return re.sub(r'http\\S+','',text)\n",
    "data['Message'] = data['Message'].apply(remove_urls)\n",
    "\n",
    "\n",
    "\n",
    "#removing special chars\n",
    "def remove_special_chars(text):\n",
    "    return re.sub('[^a-zA-Z]', ' ',text) #replace everything that is not a-z or A-Z with a blank space\n",
    "data['Message'] = data['Message'].apply(remove_special_chars)\n",
    "\n",
    "\n",
    "#tokenization\n",
    "def tokenize(text):\n",
    "    return word_tokenize(text)\n",
    "data[\"Message\"] = data[\"Message\"].apply(tokenize) #IMPORTANT: This line converts each Mail (single string) into a list of strings\n",
    "\n",
    "\n",
    "#removing stopwords\n",
    "stopwords = stopwords.words('english') \n",
    "def remove_stopwords(token):\n",
    "    return [item for item in token if item not in stopwords]\n",
    "data[\"Message\"] = data[\"Message\"].apply(remove_stopwords)\n",
    "\n",
    "\n",
    "#stemming IMPORTANT: Careful with this one! Has major effect on word outcome. Experiment and observe performance later on...\n",
    "stemmer = PorterStemmer()\n",
    "def clean_stem(token):\n",
    "    return [stemmer.stem(i) for i in token]\n",
    "data['Message'] = data['Message'].apply(clean_stem)\n",
    "\n",
    "\n",
    "\n",
    "#lemmatization\n",
    "lemma = WordNetLemmatizer()\n",
    "\n",
    "def clean_lemma(token):\n",
    "    return [lemma.lemmatize(word=w, pos=\"v\") for w in token]\n",
    "\n",
    "data[\"Message\"] = data[\"Message\"].apply(clean_lemma)\n",
    "\n",
    "\n",
    "#removing words that consist of 1 or less letters\n",
    "def remove_letters(token):\n",
    "    return [i for i in token if len(i)>=2]\n",
    "\n",
    "data['Message'] = data['Message'].apply(remove_letters)\n",
    "\n",
    "\n",
    "def convert_to_string(token_list):\n",
    "    return \" \".join(token_list)\n",
    "\n",
    "data['Message'] = data[\"Message\"].apply(convert_to_string)\n",
    "\n",
    "data.head(20)\n",
    "\n",
    "\n"
   ]
  },
  {
   "cell_type": "markdown",
   "id": "aa56e298",
   "metadata": {},
   "source": [
    "## Dataset specific cleaning"
   ]
  },
  {
   "cell_type": "code",
   "execution_count": null,
   "id": "5af10d32",
   "metadata": {},
   "outputs": [],
   "source": [
    "#removing the word \"subject\" (necessary for data from dataset2)\n",
    "data['Message'] = data['Message'].apply(lambda x: x.replace('subject ', ''))\n",
    "\n",
    "\n",
    "#Converting \"ham\" and \"spam\" to 0s and 1s (necessary for data from dataset1)\n",
    "def convert_label(labeltext):\n",
    "    if(isinstance(labeltext,int)): return labeltext #this line covers the case that sb executes this cell twice where labeltext is an 0 or 1 already\n",
    "    \n",
    "    if(labeltext=='spam'): \n",
    "        return 1\n",
    "    else:\n",
    "        return 0    \n",
    "\n",
    "data[\"Category\"] = data[\"Category\"].apply(convert_label)\n",
    "\n"
   ]
  },
  {
   "cell_type": "code",
   "execution_count": null,
   "id": "d5cab783",
   "metadata": {},
   "outputs": [],
   "source": [
    "#Write prepared results to csv file\n",
    "\n",
    "data = data.dropna(subset=['Message']) #without this I get an error for missing values in training data in the next noebook\n",
    "\n",
    "data.to_csv('data_cooked.csv', index=False)"
   ]
  },
  {
   "cell_type": "markdown",
   "id": "dfbe1842",
   "metadata": {},
   "source": [
    "## Data Exploration"
   ]
  },
  {
   "cell_type": "markdown",
   "id": "d09c52da",
   "metadata": {},
   "source": []
  },
  {
   "cell_type": "code",
   "execution_count": null,
   "id": "15daa25b",
   "metadata": {},
   "outputs": [],
   "source": [
    "#Data has a lot more None Spam emails (0s) than spam emails (1s). Wonder if that is a problem...\n",
    "plt.hist(data[\"Category\"], bins=2)\n",
    "plt.xticks([0,1])\n",
    "\n",
    "#KEEP THIS IN MIND (data might need some resampling or so to get full performance)"
   ]
  },
  {
   "cell_type": "code",
   "execution_count": null,
   "id": "7b3b10d9",
   "metadata": {},
   "outputs": [],
   "source": []
  },
  {
   "cell_type": "code",
   "execution_count": null,
   "id": "a5b0e13d",
   "metadata": {},
   "outputs": [],
   "source": []
  }
 ],
 "metadata": {
  "kernelspec": {
   "display_name": "base",
   "language": "python",
   "name": "python3"
  },
  "language_info": {
   "codemirror_mode": {
    "name": "ipython",
    "version": 3
   },
   "file_extension": ".py",
   "mimetype": "text/x-python",
   "name": "python",
   "nbconvert_exporter": "python",
   "pygments_lexer": "ipython3",
   "version": "3.8.19"
  }
 },
 "nbformat": 4,
 "nbformat_minor": 5
}
